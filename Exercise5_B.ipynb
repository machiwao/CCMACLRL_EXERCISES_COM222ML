{
  "cells": [
    {
      "cell_type": "markdown",
      "metadata": {
        "id": "view-in-github",
        "colab_type": "text"
      },
      "source": [
        "<a href=\"https://colab.research.google.com/github/machiwao/CCMACLRL_EXERCISES_COM222ML/blob/main/Exercise5_B.ipynb\" target=\"_parent\"><img src=\"https://colab.research.google.com/assets/colab-badge.svg\" alt=\"Open In Colab\"/></a>"
      ]
    },
    {
      "cell_type": "markdown",
      "source": [
        "# Exercise 5B\n",
        "\n",
        "# House Price Prediction using Multiple Linear Regression"
      ],
      "metadata": {
        "id": "32Xidi_sRyFE"
      }
    },
    {
      "cell_type": "markdown",
      "metadata": {
        "id": "ERgHt1nLW7sf"
      },
      "source": [
        "<center><img src=\"https://raw.githubusercontent.com/Masterx-AI/Project_Housing_Price_Prediction_/main/hs.jpg\" style=\"width: 700px;\"/>"
      ]
    },
    {
      "cell_type": "markdown",
      "source": [
        "### Description:\n",
        "\n",
        "A simple yet challenging project, to predict the housing price based on certain factors like house area, bedrooms, furnished, nearness to mainroad, etc.  The dataset is small yet, it's complexity arises due to the fact that it has strong multicollinearity.  \n",
        "\n",
        "### Instructions:\n",
        "Choose the independent variables to creata a decent predictive model using multiple linear regression"
      ],
      "metadata": {
        "id": "CslKOQceSMfd"
      }
    },
    {
      "cell_type": "markdown",
      "metadata": {
        "id": "KOxWpCUGW7sh"
      },
      "source": [
        "## Import libraries 🐍"
      ]
    },
    {
      "cell_type": "code",
      "execution_count": null,
      "metadata": {
        "execution": {
          "iopub.execute_input": "2023-07-27T18:42:12.994698Z",
          "iopub.status.busy": "2023-07-27T18:42:12.994323Z",
          "iopub.status.idle": "2023-07-27T18:42:13.003571Z",
          "shell.execute_reply": "2023-07-27T18:42:13.002409Z",
          "shell.execute_reply.started": "2023-07-27T18:42:12.994667Z"
        },
        "trusted": true,
        "id": "ga-UhOxKW7si"
      },
      "outputs": [],
      "source": [
        "import pandas as pd\n",
        "import numpy as np\n",
        "import matplotlib.pyplot as plt\n",
        "import seaborn as sns\n",
        "import statsmodels.api as sm\n",
        "\n",
        "from sklearn.metrics import r2_score\n",
        "from sklearn.model_selection import train_test_split\n",
        "from sklearn.preprocessing import MinMaxScaler, StandardScaler\n",
        "from sklearn.linear_model import LinearRegression\n",
        "from sklearn.metrics import mean_squared_error, r2_score"
      ]
    },
    {
      "cell_type": "markdown",
      "metadata": {
        "id": "aA2dC4k-W7sj"
      },
      "source": [
        "## A. Understanding the Dataset"
      ]
    },
    {
      "cell_type": "code",
      "execution_count": null,
      "metadata": {
        "execution": {
          "iopub.execute_input": "2023-07-27T18:42:13.486182Z",
          "iopub.status.busy": "2023-07-27T18:42:13.485824Z",
          "iopub.status.idle": "2023-07-27T18:42:13.498727Z",
          "shell.execute_reply": "2023-07-27T18:42:13.497062Z",
          "shell.execute_reply.started": "2023-07-27T18:42:13.486154Z"
        },
        "trusted": true,
        "id": "I7DMLOCSW7sk"
      },
      "outputs": [],
      "source": [
        "df = pd.read_csv(\"house_prices.csv\")"
      ]
    },
    {
      "cell_type": "code",
      "execution_count": null,
      "metadata": {
        "execution": {
          "iopub.execute_input": "2023-07-27T18:42:13.523888Z",
          "iopub.status.busy": "2023-07-27T18:42:13.523268Z",
          "iopub.status.idle": "2023-07-27T18:42:13.542221Z",
          "shell.execute_reply": "2023-07-27T18:42:13.541124Z",
          "shell.execute_reply.started": "2023-07-27T18:42:13.523855Z"
        },
        "trusted": true,
        "id": "oAyfNAfNW7sk"
      },
      "outputs": [],
      "source": [
        "# Random 10 samples of data\n",
        "df.sample(10)"
      ]
    },
    {
      "cell_type": "code",
      "execution_count": null,
      "metadata": {
        "execution": {
          "iopub.execute_input": "2023-07-27T18:42:13.567228Z",
          "iopub.status.busy": "2023-07-27T18:42:13.566382Z",
          "iopub.status.idle": "2023-07-27T18:42:13.578396Z",
          "shell.execute_reply": "2023-07-27T18:42:13.576943Z",
          "shell.execute_reply.started": "2023-07-27T18:42:13.567196Z"
        },
        "trusted": true,
        "id": "T6jTUjXDW7sl"
      },
      "outputs": [],
      "source": [
        "# Data Information\n",
        "df.info()"
      ]
    },
    {
      "cell_type": "code",
      "execution_count": null,
      "metadata": {
        "execution": {
          "iopub.execute_input": "2023-07-27T18:42:13.588912Z",
          "iopub.status.busy": "2023-07-27T18:42:13.587876Z",
          "iopub.status.idle": "2023-07-27T18:42:13.596952Z",
          "shell.execute_reply": "2023-07-27T18:42:13.595615Z",
          "shell.execute_reply.started": "2023-07-27T18:42:13.588869Z"
        },
        "trusted": true,
        "id": "zUZ9ugwwW7sm"
      },
      "outputs": [],
      "source": [
        "df.shape # data shape"
      ]
    },
    {
      "cell_type": "code",
      "execution_count": null,
      "metadata": {
        "execution": {
          "iopub.execute_input": "2023-07-27T18:42:13.636491Z",
          "iopub.status.busy": "2023-07-27T18:42:13.635223Z",
          "iopub.status.idle": "2023-07-27T18:42:13.663941Z",
          "shell.execute_reply": "2023-07-27T18:42:13.662545Z",
          "shell.execute_reply.started": "2023-07-27T18:42:13.636446Z"
        },
        "trusted": true,
        "id": "MF5YSaZGW7sn"
      },
      "outputs": [],
      "source": [
        "df.describe() # data stats"
      ]
    },
    {
      "cell_type": "code",
      "execution_count": null,
      "metadata": {
        "execution": {
          "iopub.execute_input": "2023-07-27T18:42:13.667579Z",
          "iopub.status.busy": "2023-07-27T18:42:13.6669Z",
          "iopub.status.idle": "2023-07-27T18:42:13.677201Z",
          "shell.execute_reply": "2023-07-27T18:42:13.676508Z",
          "shell.execute_reply.started": "2023-07-27T18:42:13.66754Z"
        },
        "trusted": true,
        "id": "-7nKRAf4W7sn"
      },
      "outputs": [],
      "source": [
        "df.isnull().sum() # null values check"
      ]
    },
    {
      "cell_type": "code",
      "execution_count": null,
      "metadata": {
        "execution": {
          "iopub.execute_input": "2023-07-27T18:42:13.709475Z",
          "iopub.status.busy": "2023-07-27T18:42:13.708559Z",
          "iopub.status.idle": "2023-07-27T18:42:13.71913Z",
          "shell.execute_reply": "2023-07-27T18:42:13.71769Z",
          "shell.execute_reply.started": "2023-07-27T18:42:13.709442Z"
        },
        "trusted": true,
        "id": "LeyrxDFOW7so"
      },
      "outputs": [],
      "source": [
        "df.duplicated().sum() # duplicate values check"
      ]
    },
    {
      "cell_type": "markdown",
      "source": [
        "## B. Data Visualization"
      ],
      "metadata": {
        "id": "lIpxPMQ3Sa_k"
      }
    },
    {
      "cell_type": "markdown",
      "metadata": {
        "id": "KDIRYqe4W7so"
      },
      "source": [
        "1. Use a `.scatterplot()` to check the relationship between area and price\n",
        "\n",
        "- the x axis should be the area\n",
        "- the y axis should be the price\n",
        "- the color of each data point should be based on the furnishing status\n"
      ]
    },
    {
      "cell_type": "code",
      "execution_count": null,
      "metadata": {
        "execution": {
          "iopub.execute_input": "2023-07-27T18:42:16.932498Z",
          "iopub.status.busy": "2023-07-27T18:42:16.932155Z",
          "iopub.status.idle": "2023-07-27T18:42:17.268324Z",
          "shell.execute_reply": "2023-07-27T18:42:17.267462Z",
          "shell.execute_reply.started": "2023-07-27T18:42:16.932467Z"
        },
        "trusted": true,
        "id": "nFbNEoTnW7sp"
      },
      "outputs": [],
      "source": [
        "# Put your answer here"
      ]
    },
    {
      "cell_type": "markdown",
      "source": [
        "2. Create a `.pairplot()` to check the relationships between the independent and dependent variables"
      ],
      "metadata": {
        "id": "mZGiipnnSj1W"
      }
    },
    {
      "cell_type": "code",
      "source": [
        "# Put your answer here"
      ],
      "metadata": {
        "id": "HdhE2edGFZPH"
      },
      "execution_count": null,
      "outputs": []
    },
    {
      "cell_type": "markdown",
      "source": [
        "## C. Data pre-processing"
      ],
      "metadata": {
        "id": "gu3724duUIKI"
      }
    },
    {
      "cell_type": "markdown",
      "source": [
        "3. Create a copy of the dataframe using `.copy()`"
      ],
      "metadata": {
        "id": "0zYDN9VvKpxv"
      }
    },
    {
      "cell_type": "code",
      "execution_count": null,
      "metadata": {
        "execution": {
          "iopub.execute_input": "2023-07-27T18:42:30.612636Z",
          "iopub.status.busy": "2023-07-27T18:42:30.612341Z",
          "iopub.status.idle": "2023-07-27T18:42:30.636774Z",
          "shell.execute_reply": "2023-07-27T18:42:30.635864Z",
          "shell.execute_reply.started": "2023-07-27T18:42:30.612612Z"
        },
        "trusted": true,
        "id": "sW_qf27gW7sq"
      },
      "outputs": [],
      "source": [
        "# Put your answer here"
      ]
    },
    {
      "cell_type": "markdown",
      "source": [
        "4. Apply the `get_dummies()` method to convert the categorical columns below into numbers/dummy variables.\n",
        "\n",
        "- furnishingstatus\n",
        "- mainroad\n",
        "- guestroom\n",
        "- basement\n",
        "- hotwaterheating\n",
        "- airconditioning\n",
        "- prefarea"
      ],
      "metadata": {
        "id": "rI4-DBAPUWGT"
      }
    },
    {
      "cell_type": "code",
      "source": [
        "# Put your answer here"
      ],
      "metadata": {
        "id": "-710fYkfGhAa"
      },
      "execution_count": null,
      "outputs": []
    },
    {
      "cell_type": "markdown",
      "source": [
        "5. Concatenate the converted columns to the dataframe copy using `.concat()`"
      ],
      "metadata": {
        "id": "TJep7OUoJkod"
      }
    },
    {
      "cell_type": "code",
      "source": [
        "# Put your answer here"
      ],
      "metadata": {
        "id": "NlZrtzbXGkiR"
      },
      "execution_count": null,
      "outputs": []
    },
    {
      "cell_type": "markdown",
      "metadata": {
        "id": "788FFhKnW7sq"
      },
      "source": [
        "6. Drop the categorical columns below using `.drop()`.\n",
        "\n",
        "- furnishingstatus\n",
        "- mainroad\n",
        "- guestroom\n",
        "- basement\n",
        "- hotwaterheating\n",
        "- airconditioning\n",
        "- prefarea"
      ]
    },
    {
      "cell_type": "code",
      "execution_count": null,
      "metadata": {
        "id": "dXFEfZ6CW7sq"
      },
      "outputs": [],
      "source": [
        "# Put your answer here"
      ]
    },
    {
      "cell_type": "markdown",
      "source": [
        "## D. Feature Selection"
      ],
      "metadata": {
        "id": "kAqUQNJeUgZh"
      }
    },
    {
      "cell_type": "markdown",
      "source": [
        "7. Use `.corr()` to check for multicollinearity between the features/independent variables"
      ],
      "metadata": {
        "id": "GHXTK-WFUjSG"
      }
    },
    {
      "cell_type": "code",
      "source": [
        "# Put your answer here"
      ],
      "metadata": {
        "id": "z_7DZ8-mP7YP"
      },
      "execution_count": null,
      "outputs": []
    },
    {
      "cell_type": "markdown",
      "source": [
        "8. Create a heatmap using `.heatmap()` to visualize the correlation in a plot."
      ],
      "metadata": {
        "id": "2uVAmiQQU0gD"
      }
    },
    {
      "cell_type": "code",
      "source": [
        "# Put your answer here"
      ],
      "metadata": {
        "id": "p1duU_gSQA-t"
      },
      "execution_count": null,
      "outputs": []
    },
    {
      "cell_type": "markdown",
      "source": [
        "## E. Building the Model\n",
        "\n"
      ],
      "metadata": {
        "id": "x1KDG3-MWHOP"
      }
    },
    {
      "cell_type": "markdown",
      "metadata": {
        "id": "ragVnZO9W7sr"
      },
      "source": [
        "9. Split the data set into a training and test set"
      ]
    },
    {
      "cell_type": "code",
      "execution_count": null,
      "metadata": {
        "execution": {
          "iopub.execute_input": "2023-07-27T18:42:30.638186Z",
          "iopub.status.busy": "2023-07-27T18:42:30.63788Z",
          "iopub.status.idle": "2023-07-27T18:42:30.647318Z",
          "shell.execute_reply": "2023-07-27T18:42:30.646206Z",
          "shell.execute_reply.started": "2023-07-27T18:42:30.638157Z"
        },
        "trusted": true,
        "id": "_jiywljmW7sr"
      },
      "outputs": [],
      "source": [
        "# Put your answer here"
      ]
    },
    {
      "cell_type": "markdown",
      "metadata": {
        "id": "wSQqMaghW7sr"
      },
      "source": [
        "10. Use the the `MinMaxScaler()` method to apply scaling on the independent variables in the training and test set."
      ]
    },
    {
      "cell_type": "code",
      "execution_count": null,
      "metadata": {
        "execution": {
          "iopub.execute_input": "2023-07-27T18:42:30.648685Z",
          "iopub.status.busy": "2023-07-27T18:42:30.648381Z",
          "iopub.status.idle": "2023-07-27T18:42:30.662743Z",
          "shell.execute_reply": "2023-07-27T18:42:30.662038Z",
          "shell.execute_reply.started": "2023-07-27T18:42:30.648662Z"
        },
        "trusted": true,
        "id": "FmxqZkBNW7sr"
      },
      "outputs": [],
      "source": [
        "# Put your answer here"
      ]
    },
    {
      "cell_type": "markdown",
      "source": [
        "11. Create a new dataframe containing the unscaled features"
      ],
      "metadata": {
        "id": "gCGJL9WhWsld"
      }
    },
    {
      "cell_type": "code",
      "source": [
        "# Put your answer here"
      ],
      "metadata": {
        "id": "oY6Nqh-pOOXP"
      },
      "execution_count": null,
      "outputs": []
    },
    {
      "cell_type": "markdown",
      "source": [
        "12. Create a new dataframe containing the scaled features"
      ],
      "metadata": {
        "id": "MmAvh6gkW1Av"
      }
    },
    {
      "cell_type": "code",
      "source": [
        "# Put your answer here"
      ],
      "metadata": {
        "id": "Wpqxbv6XNUbN"
      },
      "execution_count": null,
      "outputs": []
    },
    {
      "cell_type": "markdown",
      "metadata": {
        "id": "mD21Kj_oW7ss"
      },
      "source": [
        "13. Create a new instance of a Linear Regression model  "
      ]
    },
    {
      "cell_type": "code",
      "execution_count": null,
      "metadata": {
        "execution": {
          "iopub.execute_input": "2023-07-27T18:42:37.3465Z",
          "iopub.status.busy": "2023-07-27T18:42:37.345949Z",
          "iopub.status.idle": "2023-07-27T18:42:37.355685Z",
          "shell.execute_reply": "2023-07-27T18:42:37.354646Z",
          "shell.execute_reply.started": "2023-07-27T18:42:37.346466Z"
        },
        "trusted": true,
        "id": "_4JmQmpVW7ss"
      },
      "outputs": [],
      "source": [
        "# Put your answer here"
      ]
    },
    {
      "cell_type": "markdown",
      "metadata": {
        "id": "ed1L8U4WW7ss"
      },
      "source": [
        "14. Use the `fit()` method to train your model using the training set."
      ]
    },
    {
      "cell_type": "code",
      "execution_count": null,
      "metadata": {
        "_kg_hide-output": true,
        "collapsed": true,
        "execution": {
          "iopub.execute_input": "2023-07-27T18:42:38.608296Z",
          "iopub.status.busy": "2023-07-27T18:42:38.6079Z",
          "iopub.status.idle": "2023-07-27T18:42:40.33535Z",
          "shell.execute_reply": "2023-07-27T18:42:40.334194Z",
          "shell.execute_reply.started": "2023-07-27T18:42:38.608266Z"
        },
        "jupyter": {
          "outputs_hidden": true
        },
        "trusted": true,
        "id": "urL1c5ZBW7ss"
      },
      "outputs": [],
      "source": [
        "# Put your answer here"
      ]
    },
    {
      "cell_type": "markdown",
      "metadata": {
        "id": "LKDgmhD1W7st"
      },
      "source": [
        "15. Use the `predict()` method using the test set"
      ]
    },
    {
      "cell_type": "code",
      "execution_count": null,
      "metadata": {
        "id": "ty6izz4DW7st"
      },
      "outputs": [],
      "source": [
        "# Put your answer here"
      ]
    },
    {
      "cell_type": "markdown",
      "metadata": {
        "id": "U_Ld9nE0W7st"
      },
      "source": [
        "\n",
        "16. Compute the $R^2$ of the model"
      ]
    },
    {
      "cell_type": "code",
      "execution_count": null,
      "metadata": {
        "execution": {
          "iopub.execute_input": "2023-07-27T18:42:53.741153Z",
          "iopub.status.busy": "2023-07-27T18:42:53.740793Z",
          "iopub.status.idle": "2023-07-27T18:42:58.969754Z",
          "shell.execute_reply": "2023-07-27T18:42:58.966273Z",
          "shell.execute_reply.started": "2023-07-27T18:42:53.741122Z"
        },
        "trusted": true,
        "id": "kyesTZX-W7st"
      },
      "outputs": [],
      "source": [
        "# Put your answer here"
      ]
    }
  ],
  "metadata": {
    "kernelspec": {
      "display_name": "Python 3",
      "language": "python",
      "name": "python3"
    },
    "language_info": {
      "codemirror_mode": {
        "name": "ipython",
        "version": 3
      },
      "file_extension": ".py",
      "mimetype": "text/x-python",
      "name": "python",
      "nbconvert_exporter": "python",
      "pygments_lexer": "ipython3",
      "version": "3.11.4"
    },
    "colab": {
      "provenance": [],
      "include_colab_link": true
    }
  },
  "nbformat": 4,
  "nbformat_minor": 0
}