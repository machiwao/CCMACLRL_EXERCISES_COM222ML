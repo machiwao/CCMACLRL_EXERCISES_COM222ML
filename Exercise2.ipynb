{
  "nbformat": 4,
  "nbformat_minor": 0,
  "metadata": {
    "colab": {
      "provenance": [],
      "include_colab_link": true
    },
    "kernelspec": {
      "name": "python3",
      "display_name": "Python 3"
    },
    "language_info": {
      "name": "python"
    }
  },
  "cells": [
    {
      "cell_type": "markdown",
      "metadata": {
        "id": "view-in-github",
        "colab_type": "text"
      },
      "source": [
        "<a href=\"https://colab.research.google.com/github/machiwao/CCMACLRL_EXERCISES_COM222ML/blob/main/Exercise2.ipynb\" target=\"_parent\"><img src=\"https://colab.research.google.com/assets/colab-badge.svg\" alt=\"Open In Colab\"/></a>"
      ]
    },
    {
      "cell_type": "markdown",
      "source": [
        "## Exercise 2\n",
        "\n",
        "Machine Learning pipeline"
      ],
      "metadata": {
        "id": "DqR0FzmaeM8-"
      }
    },
    {
      "cell_type": "markdown",
      "source": [
        "1. Import the necessary libraries"
      ],
      "metadata": {
        "id": "kJ7diNZsedJY"
      }
    },
    {
      "cell_type": "code",
      "execution_count": null,
      "metadata": {
        "id": "8WCS2b7Ud74H"
      },
      "outputs": [],
      "source": [
        "import numpy as np\n",
        "import pandas as pd\n",
        "import matplotlib.pyplot as plt\n",
        "\n",
        "from sklearn import metrics\n",
        "from sklearn.neighbors import KNeighborsClassifier\n",
        "from sklearn.model_selection import train_test_split"
      ]
    },
    {
      "cell_type": "markdown",
      "source": [
        "2. Load the dataset\n"
      ],
      "metadata": {
        "id": "avlOC-EPej3b"
      }
    },
    {
      "cell_type": "code",
      "source": [
        "#put your answer here\n"
      ],
      "metadata": {
        "id": "XcY2qBqNepW8"
      },
      "execution_count": null,
      "outputs": []
    },
    {
      "cell_type": "markdown",
      "source": [
        "3. Visualize the dataset"
      ],
      "metadata": {
        "id": "ZGHxeS-te1Ue"
      }
    },
    {
      "cell_type": "code",
      "source": [
        "# put your answer here\n"
      ],
      "metadata": {
        "id": "j-wBO5a3e50k"
      },
      "execution_count": null,
      "outputs": []
    },
    {
      "cell_type": "markdown",
      "source": [
        "4. Split the dataset into a training set and a testing set"
      ],
      "metadata": {
        "id": "sBAlH3-le712"
      }
    },
    {
      "cell_type": "code",
      "source": [
        "# put your answer here\n"
      ],
      "metadata": {
        "id": "0egly2tse90y"
      },
      "execution_count": null,
      "outputs": []
    },
    {
      "cell_type": "markdown",
      "source": [
        "5. Train the model"
      ],
      "metadata": {
        "id": "jyi1oFNwfgzZ"
      }
    },
    {
      "cell_type": "code",
      "source": [
        "# put your answer here\n"
      ],
      "metadata": {
        "id": "djxNSbVofeu4"
      },
      "execution_count": null,
      "outputs": []
    },
    {
      "cell_type": "markdown",
      "source": [
        "6. Test the model"
      ],
      "metadata": {
        "id": "6ZkUkixXhcCL"
      }
    },
    {
      "cell_type": "code",
      "source": [
        "# put your answer here\n"
      ],
      "metadata": {
        "id": "odS4um4lfq94"
      },
      "execution_count": null,
      "outputs": []
    }
  ]
}