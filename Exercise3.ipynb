{
  "nbformat": 4,
  "nbformat_minor": 0,
  "metadata": {
    "colab": {
      "provenance": [],
      "include_colab_link": true
    },
    "kernelspec": {
      "name": "python3",
      "display_name": "Python 3"
    },
    "language_info": {
      "name": "python"
    }
  },
  "cells": [
    {
      "cell_type": "markdown",
      "metadata": {
        "id": "view-in-github",
        "colab_type": "text"
      },
      "source": [
        "<a href=\"https://colab.research.google.com/github/machiwao/CCMACLRL_EXERCISES_COM222ML/blob/main/Exercise3.ipynb\" target=\"_parent\"><img src=\"https://colab.research.google.com/assets/colab-badge.svg\" alt=\"Open In Colab\"/></a>"
      ]
    },
    {
      "cell_type": "markdown",
      "source": [
        "# Exercise 3\n",
        "\n",
        "Create a model using K-Nearest Neigbors to perform classification using the personality dataset.\n",
        "\n",
        "0 -'introvert'\n",
        "\n",
        "1 - 'extrovert'"
      ],
      "metadata": {
        "id": "XhYYx_KOpE5Z"
      }
    },
    {
      "cell_type": "markdown",
      "source": [
        "## A. Import libraries"
      ],
      "metadata": {
        "id": "yvFmoS5VnyZf"
      }
    },
    {
      "cell_type": "code",
      "execution_count": 382,
      "metadata": {
        "id": "VLttupn-Tlcy"
      },
      "outputs": [],
      "source": [
        "import pandas as pd\n",
        "import numpy as np\n",
        "import matplotlib.pyplot as plt\n",
        "\n",
        "import sklearn\n",
        "from sklearn import metrics\n",
        "from sklearn.datasets import load_breast_cancer\n",
        "from sklearn.model_selection import train_test_split\n",
        "from sklearn.neighbors import KNeighborsClassifier\n",
        "from sklearn.metrics import accuracy_score, precision_score, recall_score, f1_score, confusion_matrix, ConfusionMatrixDisplay"
      ]
    },
    {
      "cell_type": "markdown",
      "source": [
        "## B. Load and understand the dataset"
      ],
      "metadata": {
        "id": "wfADF4zjn15q"
      }
    },
    {
      "cell_type": "code",
      "source": [
        "# put your answer here\n",
        "df = pd.read_excel('personality.xlsx')\n",
        "df.head()"
      ],
      "metadata": {
        "id": "9HfPRONlTzM1",
        "outputId": "125985f3-d38d-4a06-a925-2098b279c8d1",
        "colab": {
          "base_uri": "https://localhost:8080/",
          "height": 258
        }
      },
      "execution_count": 383,
      "outputs": [
        {
          "output_type": "execute_result",
          "data": {
            "text/plain": [
              "                         Name  Post/Share Frequently?  \\\n",
              "0       Andrea Noelle Navarro                       0   \n",
              "1               Tati Arellano                       0   \n",
              "2                Arjay Balboa                       1   \n",
              "3  Joaquin Enrico Constantino                       0   \n",
              "4        Manuel Cabungcal III                       0   \n",
              "\n",
              "   Active in social media?  Replies to comments?  Number of friends/followers  \\\n",
              "0                        1                     0                          257   \n",
              "1                        1                     0                          658   \n",
              "2                        1                     1                         2785   \n",
              "3                        1                     0                          966   \n",
              "4                        1                     0                          135   \n",
              "\n",
              "   Personality  \n",
              "0            0  \n",
              "1            0  \n",
              "2            1  \n",
              "3            0  \n",
              "4            0  "
            ],
            "text/html": [
              "\n",
              "  <div id=\"df-d4ac6a95-91ea-4fcd-9c3d-2aea572f6387\" class=\"colab-df-container\">\n",
              "    <div>\n",
              "<style scoped>\n",
              "    .dataframe tbody tr th:only-of-type {\n",
              "        vertical-align: middle;\n",
              "    }\n",
              "\n",
              "    .dataframe tbody tr th {\n",
              "        vertical-align: top;\n",
              "    }\n",
              "\n",
              "    .dataframe thead th {\n",
              "        text-align: right;\n",
              "    }\n",
              "</style>\n",
              "<table border=\"1\" class=\"dataframe\">\n",
              "  <thead>\n",
              "    <tr style=\"text-align: right;\">\n",
              "      <th></th>\n",
              "      <th>Name</th>\n",
              "      <th>Post/Share Frequently?</th>\n",
              "      <th>Active in social media?</th>\n",
              "      <th>Replies to comments?</th>\n",
              "      <th>Number of friends/followers</th>\n",
              "      <th>Personality</th>\n",
              "    </tr>\n",
              "  </thead>\n",
              "  <tbody>\n",
              "    <tr>\n",
              "      <th>0</th>\n",
              "      <td>Andrea Noelle Navarro</td>\n",
              "      <td>0</td>\n",
              "      <td>1</td>\n",
              "      <td>0</td>\n",
              "      <td>257</td>\n",
              "      <td>0</td>\n",
              "    </tr>\n",
              "    <tr>\n",
              "      <th>1</th>\n",
              "      <td>Tati Arellano</td>\n",
              "      <td>0</td>\n",
              "      <td>1</td>\n",
              "      <td>0</td>\n",
              "      <td>658</td>\n",
              "      <td>0</td>\n",
              "    </tr>\n",
              "    <tr>\n",
              "      <th>2</th>\n",
              "      <td>Arjay Balboa</td>\n",
              "      <td>1</td>\n",
              "      <td>1</td>\n",
              "      <td>1</td>\n",
              "      <td>2785</td>\n",
              "      <td>1</td>\n",
              "    </tr>\n",
              "    <tr>\n",
              "      <th>3</th>\n",
              "      <td>Joaquin Enrico Constantino</td>\n",
              "      <td>0</td>\n",
              "      <td>1</td>\n",
              "      <td>0</td>\n",
              "      <td>966</td>\n",
              "      <td>0</td>\n",
              "    </tr>\n",
              "    <tr>\n",
              "      <th>4</th>\n",
              "      <td>Manuel Cabungcal III</td>\n",
              "      <td>0</td>\n",
              "      <td>1</td>\n",
              "      <td>0</td>\n",
              "      <td>135</td>\n",
              "      <td>0</td>\n",
              "    </tr>\n",
              "  </tbody>\n",
              "</table>\n",
              "</div>\n",
              "    <div class=\"colab-df-buttons\">\n",
              "\n",
              "  <div class=\"colab-df-container\">\n",
              "    <button class=\"colab-df-convert\" onclick=\"convertToInteractive('df-d4ac6a95-91ea-4fcd-9c3d-2aea572f6387')\"\n",
              "            title=\"Convert this dataframe to an interactive table.\"\n",
              "            style=\"display:none;\">\n",
              "\n",
              "  <svg xmlns=\"http://www.w3.org/2000/svg\" height=\"24px\" viewBox=\"0 -960 960 960\">\n",
              "    <path d=\"M120-120v-720h720v720H120Zm60-500h600v-160H180v160Zm220 220h160v-160H400v160Zm0 220h160v-160H400v160ZM180-400h160v-160H180v160Zm440 0h160v-160H620v160ZM180-180h160v-160H180v160Zm440 0h160v-160H620v160Z\"/>\n",
              "  </svg>\n",
              "    </button>\n",
              "\n",
              "  <style>\n",
              "    .colab-df-container {\n",
              "      display:flex;\n",
              "      gap: 12px;\n",
              "    }\n",
              "\n",
              "    .colab-df-convert {\n",
              "      background-color: #E8F0FE;\n",
              "      border: none;\n",
              "      border-radius: 50%;\n",
              "      cursor: pointer;\n",
              "      display: none;\n",
              "      fill: #1967D2;\n",
              "      height: 32px;\n",
              "      padding: 0 0 0 0;\n",
              "      width: 32px;\n",
              "    }\n",
              "\n",
              "    .colab-df-convert:hover {\n",
              "      background-color: #E2EBFA;\n",
              "      box-shadow: 0px 1px 2px rgba(60, 64, 67, 0.3), 0px 1px 3px 1px rgba(60, 64, 67, 0.15);\n",
              "      fill: #174EA6;\n",
              "    }\n",
              "\n",
              "    .colab-df-buttons div {\n",
              "      margin-bottom: 4px;\n",
              "    }\n",
              "\n",
              "    [theme=dark] .colab-df-convert {\n",
              "      background-color: #3B4455;\n",
              "      fill: #D2E3FC;\n",
              "    }\n",
              "\n",
              "    [theme=dark] .colab-df-convert:hover {\n",
              "      background-color: #434B5C;\n",
              "      box-shadow: 0px 1px 3px 1px rgba(0, 0, 0, 0.15);\n",
              "      filter: drop-shadow(0px 1px 2px rgba(0, 0, 0, 0.3));\n",
              "      fill: #FFFFFF;\n",
              "    }\n",
              "  </style>\n",
              "\n",
              "    <script>\n",
              "      const buttonEl =\n",
              "        document.querySelector('#df-d4ac6a95-91ea-4fcd-9c3d-2aea572f6387 button.colab-df-convert');\n",
              "      buttonEl.style.display =\n",
              "        google.colab.kernel.accessAllowed ? 'block' : 'none';\n",
              "\n",
              "      async function convertToInteractive(key) {\n",
              "        const element = document.querySelector('#df-d4ac6a95-91ea-4fcd-9c3d-2aea572f6387');\n",
              "        const dataTable =\n",
              "          await google.colab.kernel.invokeFunction('convertToInteractive',\n",
              "                                                    [key], {});\n",
              "        if (!dataTable) return;\n",
              "\n",
              "        const docLinkHtml = 'Like what you see? Visit the ' +\n",
              "          '<a target=\"_blank\" href=https://colab.research.google.com/notebooks/data_table.ipynb>data table notebook</a>'\n",
              "          + ' to learn more about interactive tables.';\n",
              "        element.innerHTML = '';\n",
              "        dataTable['output_type'] = 'display_data';\n",
              "        await google.colab.output.renderOutput(dataTable, element);\n",
              "        const docLink = document.createElement('div');\n",
              "        docLink.innerHTML = docLinkHtml;\n",
              "        element.appendChild(docLink);\n",
              "      }\n",
              "    </script>\n",
              "  </div>\n",
              "\n",
              "\n",
              "<div id=\"df-a1bb4685-861c-4fc7-96b3-2654d9219774\">\n",
              "  <button class=\"colab-df-quickchart\" onclick=\"quickchart('df-a1bb4685-861c-4fc7-96b3-2654d9219774')\"\n",
              "            title=\"Suggest charts\"\n",
              "            style=\"display:none;\">\n",
              "\n",
              "<svg xmlns=\"http://www.w3.org/2000/svg\" height=\"24px\"viewBox=\"0 0 24 24\"\n",
              "     width=\"24px\">\n",
              "    <g>\n",
              "        <path d=\"M19 3H5c-1.1 0-2 .9-2 2v14c0 1.1.9 2 2 2h14c1.1 0 2-.9 2-2V5c0-1.1-.9-2-2-2zM9 17H7v-7h2v7zm4 0h-2V7h2v10zm4 0h-2v-4h2v4z\"/>\n",
              "    </g>\n",
              "</svg>\n",
              "  </button>\n",
              "\n",
              "<style>\n",
              "  .colab-df-quickchart {\n",
              "      --bg-color: #E8F0FE;\n",
              "      --fill-color: #1967D2;\n",
              "      --hover-bg-color: #E2EBFA;\n",
              "      --hover-fill-color: #174EA6;\n",
              "      --disabled-fill-color: #AAA;\n",
              "      --disabled-bg-color: #DDD;\n",
              "  }\n",
              "\n",
              "  [theme=dark] .colab-df-quickchart {\n",
              "      --bg-color: #3B4455;\n",
              "      --fill-color: #D2E3FC;\n",
              "      --hover-bg-color: #434B5C;\n",
              "      --hover-fill-color: #FFFFFF;\n",
              "      --disabled-bg-color: #3B4455;\n",
              "      --disabled-fill-color: #666;\n",
              "  }\n",
              "\n",
              "  .colab-df-quickchart {\n",
              "    background-color: var(--bg-color);\n",
              "    border: none;\n",
              "    border-radius: 50%;\n",
              "    cursor: pointer;\n",
              "    display: none;\n",
              "    fill: var(--fill-color);\n",
              "    height: 32px;\n",
              "    padding: 0;\n",
              "    width: 32px;\n",
              "  }\n",
              "\n",
              "  .colab-df-quickchart:hover {\n",
              "    background-color: var(--hover-bg-color);\n",
              "    box-shadow: 0 1px 2px rgba(60, 64, 67, 0.3), 0 1px 3px 1px rgba(60, 64, 67, 0.15);\n",
              "    fill: var(--button-hover-fill-color);\n",
              "  }\n",
              "\n",
              "  .colab-df-quickchart-complete:disabled,\n",
              "  .colab-df-quickchart-complete:disabled:hover {\n",
              "    background-color: var(--disabled-bg-color);\n",
              "    fill: var(--disabled-fill-color);\n",
              "    box-shadow: none;\n",
              "  }\n",
              "\n",
              "  .colab-df-spinner {\n",
              "    border: 2px solid var(--fill-color);\n",
              "    border-color: transparent;\n",
              "    border-bottom-color: var(--fill-color);\n",
              "    animation:\n",
              "      spin 1s steps(1) infinite;\n",
              "  }\n",
              "\n",
              "  @keyframes spin {\n",
              "    0% {\n",
              "      border-color: transparent;\n",
              "      border-bottom-color: var(--fill-color);\n",
              "      border-left-color: var(--fill-color);\n",
              "    }\n",
              "    20% {\n",
              "      border-color: transparent;\n",
              "      border-left-color: var(--fill-color);\n",
              "      border-top-color: var(--fill-color);\n",
              "    }\n",
              "    30% {\n",
              "      border-color: transparent;\n",
              "      border-left-color: var(--fill-color);\n",
              "      border-top-color: var(--fill-color);\n",
              "      border-right-color: var(--fill-color);\n",
              "    }\n",
              "    40% {\n",
              "      border-color: transparent;\n",
              "      border-right-color: var(--fill-color);\n",
              "      border-top-color: var(--fill-color);\n",
              "    }\n",
              "    60% {\n",
              "      border-color: transparent;\n",
              "      border-right-color: var(--fill-color);\n",
              "    }\n",
              "    80% {\n",
              "      border-color: transparent;\n",
              "      border-right-color: var(--fill-color);\n",
              "      border-bottom-color: var(--fill-color);\n",
              "    }\n",
              "    90% {\n",
              "      border-color: transparent;\n",
              "      border-bottom-color: var(--fill-color);\n",
              "    }\n",
              "  }\n",
              "</style>\n",
              "\n",
              "  <script>\n",
              "    async function quickchart(key) {\n",
              "      const quickchartButtonEl =\n",
              "        document.querySelector('#' + key + ' button');\n",
              "      quickchartButtonEl.disabled = true;  // To prevent multiple clicks.\n",
              "      quickchartButtonEl.classList.add('colab-df-spinner');\n",
              "      try {\n",
              "        const charts = await google.colab.kernel.invokeFunction(\n",
              "            'suggestCharts', [key], {});\n",
              "      } catch (error) {\n",
              "        console.error('Error during call to suggestCharts:', error);\n",
              "      }\n",
              "      quickchartButtonEl.classList.remove('colab-df-spinner');\n",
              "      quickchartButtonEl.classList.add('colab-df-quickchart-complete');\n",
              "    }\n",
              "    (() => {\n",
              "      let quickchartButtonEl =\n",
              "        document.querySelector('#df-a1bb4685-861c-4fc7-96b3-2654d9219774 button');\n",
              "      quickchartButtonEl.style.display =\n",
              "        google.colab.kernel.accessAllowed ? 'block' : 'none';\n",
              "    })();\n",
              "  </script>\n",
              "</div>\n",
              "\n",
              "    </div>\n",
              "  </div>\n"
            ],
            "application/vnd.google.colaboratory.intrinsic+json": {
              "type": "dataframe",
              "variable_name": "df",
              "summary": "{\n  \"name\": \"df\",\n  \"rows\": 54,\n  \"fields\": [\n    {\n      \"column\": \"Name\",\n      \"properties\": {\n        \"dtype\": \"string\",\n        \"num_unique_values\": 54,\n        \"samples\": [\n          \"Rhys Foryasen\",\n          \"Joaquim Dela Cruz\",\n          \"Russel Cawa\"\n        ],\n        \"semantic_type\": \"\",\n        \"description\": \"\"\n      }\n    },\n    {\n      \"column\": \"Post/Share Frequently?\",\n      \"properties\": {\n        \"dtype\": \"number\",\n        \"std\": 0,\n        \"min\": 0,\n        \"max\": 1,\n        \"num_unique_values\": 2,\n        \"samples\": [\n          1,\n          0\n        ],\n        \"semantic_type\": \"\",\n        \"description\": \"\"\n      }\n    },\n    {\n      \"column\": \"Active in social media?\",\n      \"properties\": {\n        \"dtype\": \"number\",\n        \"std\": 0,\n        \"min\": 0,\n        \"max\": 1,\n        \"num_unique_values\": 2,\n        \"samples\": [\n          0,\n          1\n        ],\n        \"semantic_type\": \"\",\n        \"description\": \"\"\n      }\n    },\n    {\n      \"column\": \"Replies to comments?\",\n      \"properties\": {\n        \"dtype\": \"number\",\n        \"std\": 0,\n        \"min\": 0,\n        \"max\": 1,\n        \"num_unique_values\": 2,\n        \"samples\": [\n          1,\n          0\n        ],\n        \"semantic_type\": \"\",\n        \"description\": \"\"\n      }\n    },\n    {\n      \"column\": \"Number of friends/followers\",\n      \"properties\": {\n        \"dtype\": \"number\",\n        \"std\": 1185,\n        \"min\": 135,\n        \"max\": 5327,\n        \"num_unique_values\": 54,\n        \"samples\": [\n          1256,\n          2346\n        ],\n        \"semantic_type\": \"\",\n        \"description\": \"\"\n      }\n    },\n    {\n      \"column\": \"Personality\",\n      \"properties\": {\n        \"dtype\": \"number\",\n        \"std\": 0,\n        \"min\": 0,\n        \"max\": 1,\n        \"num_unique_values\": 2,\n        \"samples\": [\n          1,\n          0\n        ],\n        \"semantic_type\": \"\",\n        \"description\": \"\"\n      }\n    }\n  ]\n}"
            }
          },
          "metadata": {},
          "execution_count": 383
        }
      ]
    },
    {
      "cell_type": "markdown",
      "source": [
        "1. Display the summary of all the features of the dataset using `.info()`"
      ],
      "metadata": {
        "id": "yVS-w6Vyp0yS"
      }
    },
    {
      "cell_type": "code",
      "source": [
        "# put your answer here\n",
        "df.drop(columns = 'Name', inplace=True)\n",
        "df.info()"
      ],
      "metadata": {
        "id": "lITZPPruT5An",
        "outputId": "6323ac61-6066-497c-eb1c-92465c8df035",
        "colab": {
          "base_uri": "https://localhost:8080/"
        }
      },
      "execution_count": 384,
      "outputs": [
        {
          "output_type": "stream",
          "name": "stdout",
          "text": [
            "<class 'pandas.core.frame.DataFrame'>\n",
            "RangeIndex: 54 entries, 0 to 53\n",
            "Data columns (total 5 columns):\n",
            " #   Column                       Non-Null Count  Dtype\n",
            "---  ------                       --------------  -----\n",
            " 0   Post/Share Frequently?       54 non-null     int64\n",
            " 1   Active in social media?      54 non-null     int64\n",
            " 2   Replies to comments?         54 non-null     int64\n",
            " 3   Number of friends/followers  54 non-null     int64\n",
            " 4   Personality                  54 non-null     int64\n",
            "dtypes: int64(5)\n",
            "memory usage: 2.2 KB\n"
          ]
        }
      ]
    },
    {
      "cell_type": "markdown",
      "source": [
        "2. Display the total number of samples from each label using `.value_counts()`"
      ],
      "metadata": {
        "id": "KgW0AJJgqlxA"
      }
    },
    {
      "cell_type": "code",
      "source": [
        "# put your answer here\n",
        "df['Personality'].value_counts()"
      ],
      "metadata": {
        "id": "S3R58V7uqkyr",
        "outputId": "9896aa85-3694-4797-9b1a-b7b240fa9c05",
        "colab": {
          "base_uri": "https://localhost:8080/",
          "height": 178
        }
      },
      "execution_count": 385,
      "outputs": [
        {
          "output_type": "execute_result",
          "data": {
            "text/plain": [
              "Personality\n",
              "0    27\n",
              "1    27\n",
              "Name: count, dtype: int64"
            ],
            "text/html": [
              "<div>\n",
              "<style scoped>\n",
              "    .dataframe tbody tr th:only-of-type {\n",
              "        vertical-align: middle;\n",
              "    }\n",
              "\n",
              "    .dataframe tbody tr th {\n",
              "        vertical-align: top;\n",
              "    }\n",
              "\n",
              "    .dataframe thead th {\n",
              "        text-align: right;\n",
              "    }\n",
              "</style>\n",
              "<table border=\"1\" class=\"dataframe\">\n",
              "  <thead>\n",
              "    <tr style=\"text-align: right;\">\n",
              "      <th></th>\n",
              "      <th>count</th>\n",
              "    </tr>\n",
              "    <tr>\n",
              "      <th>Personality</th>\n",
              "      <th></th>\n",
              "    </tr>\n",
              "  </thead>\n",
              "  <tbody>\n",
              "    <tr>\n",
              "      <th>0</th>\n",
              "      <td>27</td>\n",
              "    </tr>\n",
              "    <tr>\n",
              "      <th>1</th>\n",
              "      <td>27</td>\n",
              "    </tr>\n",
              "  </tbody>\n",
              "</table>\n",
              "</div><br><label><b>dtype:</b> int64</label>"
            ]
          },
          "metadata": {},
          "execution_count": 385
        }
      ]
    },
    {
      "cell_type": "markdown",
      "source": [
        "## C. Split the dataset into training and test set"
      ],
      "metadata": {
        "id": "VFREr8J_oW0k"
      }
    },
    {
      "cell_type": "markdown",
      "source": [
        "3. Convert the features into an numpy array using `.values()` and store it in a variable \"X\""
      ],
      "metadata": {
        "id": "cVRjywv5q_x5"
      }
    },
    {
      "cell_type": "code",
      "source": [
        "# put your answer here\n",
        "X = df.drop(columns = 'Personality').values"
      ],
      "metadata": {
        "id": "jXLzLDjuVcgI"
      },
      "execution_count": 386,
      "outputs": []
    },
    {
      "cell_type": "markdown",
      "source": [
        "4. Convert the labels into an numpy array using `.values()` and store it in a variable \"y\""
      ],
      "metadata": {
        "id": "zw8QxWNVrjIq"
      }
    },
    {
      "cell_type": "code",
      "source": [
        "# put your answer here\n",
        "y = df['Personality'].values"
      ],
      "metadata": {
        "id": "R9L1WVXpVsBi"
      },
      "execution_count": 387,
      "outputs": []
    },
    {
      "cell_type": "markdown",
      "source": [
        "5. Use `train_test_split()` to split the data.\n",
        "\n",
        "- Declare a variable `X_train` that will hold the training data\n",
        "- Declare a variable `X_test` that will hold the test data\n",
        "- Declare a variable `y_train` that will hold the label of the training data\n",
        "- Declare a variable `y_test` that will hold the label of the test data\n"
      ],
      "metadata": {
        "id": "1PnnfSX_ru6a"
      }
    },
    {
      "cell_type": "code",
      "source": [
        "# put your answer here\n",
        "X_train, X_test, y_train, y_test = train_test_split(X, y, test_size=0.1, random_state=42)\n",
        "\n",
        "print(X_train.shape)\n",
        "print(X_test.shape)\n",
        "print(y_train.shape)\n",
        "print(y_test.shape)"
      ],
      "metadata": {
        "id": "gzDeHxnVWXk8",
        "outputId": "a00b88a7-d8df-4ca5-f866-07d3ca7f6305",
        "colab": {
          "base_uri": "https://localhost:8080/"
        }
      },
      "execution_count": 388,
      "outputs": [
        {
          "output_type": "stream",
          "name": "stdout",
          "text": [
            "(48, 4)\n",
            "(6, 4)\n",
            "(48,)\n",
            "(6,)\n"
          ]
        }
      ]
    },
    {
      "cell_type": "markdown",
      "source": [
        "## D. Create the model"
      ],
      "metadata": {
        "id": "IiJE-aYIocKX"
      }
    },
    {
      "cell_type": "markdown",
      "source": [
        "6. Use KNN as a classifier by using `KNeighborsClassifier()`"
      ],
      "metadata": {
        "id": "u71kVVeMosWD"
      }
    },
    {
      "cell_type": "code",
      "source": [
        "score = []\n",
        "k_range = list(range(1, 30))\n",
        "best_k = 0\n",
        "best_score = float('-inf')\n",
        "\n",
        "for k in k_range:\n",
        "  knn_model = KNeighborsClassifier(n_neighbors=k)\n",
        "  knn_model.fit(X_train, y_train) # Train Model\n",
        "\n",
        "  y_pred = knn_model.predict(X_test) # Predict labels for test set\n",
        "  if knn_model.score(X_test, y_test) > best_score:\n",
        "    best_score = knn_model.score(X_test, y_test)\n",
        "    best_k = k\n",
        "    print(f\"Best model - k = {k}, Accuracy: {best_score}\")\n",
        "\n",
        "  score.append(knn_model.score(X_test, y_test))"
      ],
      "metadata": {
        "id": "FhPhc8BUqNnk",
        "outputId": "da601359-0909-40fe-e6a6-296e8c7db999",
        "colab": {
          "base_uri": "https://localhost:8080/"
        }
      },
      "execution_count": 389,
      "outputs": [
        {
          "output_type": "stream",
          "name": "stdout",
          "text": [
            "Best model - k = 1, Accuracy: 0.6666666666666666\n",
            "Best model - k = 2, Accuracy: 0.8333333333333334\n",
            "Best model - k = 15, Accuracy: 1.0\n"
          ]
        }
      ]
    },
    {
      "cell_type": "code",
      "source": [
        "plt.plot(range(1,30), score)\n",
        "plt.xlabel('Value of k for KNN')\n",
        "plt.ylabel('Accuracy Score')\n",
        "plt.title('Accuracy Scores for Values of k of k-Nearest-Neighbors')\n",
        "plt.show()"
      ],
      "metadata": {
        "id": "fwt3ocGXqUEZ",
        "outputId": "178645aa-e8b6-4658-b3fe-05f12c344f43",
        "colab": {
          "base_uri": "https://localhost:8080/",
          "height": 472
        }
      },
      "execution_count": 390,
      "outputs": [
        {
          "output_type": "display_data",
          "data": {
            "text/plain": [
              "<Figure size 640x480 with 1 Axes>"
            ],
            "image/png": "[encoded data removed]"
          },
          "metadata": {}
        }
      ]
    },
    {
      "cell_type": "code",
      "source": [
        "# put your answer here\n",
        "knn = KNeighborsClassifier(n_neighbors = best_k)"
      ],
      "metadata": {
        "id": "49H5F2P-WymH"
      },
      "execution_count": 391,
      "outputs": []
    },
    {
      "cell_type": "markdown",
      "source": [
        "7. Train the model using the `.fit()`"
      ],
      "metadata": {
        "id": "J2aCQkTqou8x"
      }
    },
    {
      "cell_type": "code",
      "source": [
        "# put your answer here\n",
        "knn.fit(X_train, y_train)"
      ],
      "metadata": {
        "id": "jQREIyAfXEwf",
        "outputId": "bab53d6f-1564-44e5-e59b-5c35bb2e6b7b",
        "colab": {
          "base_uri": "https://localhost:8080/",
          "height": 75
        }
      },
      "execution_count": 392,
      "outputs": [
        {
          "output_type": "execute_result",
          "data": {
            "text/plain": [
              "KNeighborsClassifier(n_neighbors=15)"
            ],
            "text/html": [
              "<style>#sk-container-id-19 {color: black;}#sk-container-id-19 pre{padding: 0;}#sk-container-id-19 div.sk-toggleable {background-color: white;}#sk-container-id-19 label.sk-toggleable__label {cursor: pointer;display: block;width: 100%;margin-bottom: 0;padding: 0.3em;box-sizing: border-box;text-align: center;}#sk-container-id-19 label.sk-toggleable__label-arrow:before {content: \"▸\";float: left;margin-right: 0.25em;color: #696969;}#sk-container-id-19 label.sk-toggleable__label-arrow:hover:before {color: black;}#sk-container-id-19 div.sk-estimator:hover label.sk-toggleable__label-arrow:before {color: black;}#sk-container-id-19 div.sk-toggleable__content {max-height: 0;max-width: 0;overflow: hidden;text-align: left;background-color: #f0f8ff;}#sk-container-id-19 div.sk-toggleable__content pre {margin: 0.2em;color: black;border-radius: 0.25em;background-color: #f0f8ff;}#sk-container-id-19 input.sk-toggleable__control:checked~div.sk-toggleable__content {max-height: 200px;max-width: 100%;overflow: auto;}#sk-container-id-19 input.sk-toggleable__control:checked~label.sk-toggleable__label-arrow:before {content: \"▾\";}#sk-container-id-19 div.sk-estimator input.sk-toggleable__control:checked~label.sk-toggleable__label {background-color: #d4ebff;}#sk-container-id-19 div.sk-label input.sk-toggleable__control:checked~label.sk-toggleable__label {background-color: #d4ebff;}#sk-container-id-19 input.sk-hidden--visually {border: 0;clip: rect(1px 1px 1px 1px);clip: rect(1px, 1px, 1px, 1px);height: 1px;margin: -1px;overflow: hidden;padding: 0;position: absolute;width: 1px;}#sk-container-id-19 div.sk-estimator {font-family: monospace;background-color: #f0f8ff;border: 1px dotted black;border-radius: 0.25em;box-sizing: border-box;margin-bottom: 0.5em;}#sk-container-id-19 div.sk-estimator:hover {background-color: #d4ebff;}#sk-container-id-19 div.sk-parallel-item::after {content: \"\";width: 100%;border-bottom: 1px solid gray;flex-grow: 1;}#sk-container-id-19 div.sk-label:hover label.sk-toggleable__label {background-color: #d4ebff;}#sk-container-id-19 div.sk-serial::before {content: \"\";position: absolute;border-left: 1px solid gray;box-sizing: border-box;top: 0;bottom: 0;left: 50%;z-index: 0;}#sk-container-id-19 div.sk-serial {display: flex;flex-direction: column;align-items: center;background-color: white;padding-right: 0.2em;padding-left: 0.2em;position: relative;}#sk-container-id-19 div.sk-item {position: relative;z-index: 1;}#sk-container-id-19 div.sk-parallel {display: flex;align-items: stretch;justify-content: center;background-color: white;position: relative;}#sk-container-id-19 div.sk-item::before, #sk-container-id-19 div.sk-parallel-item::before {content: \"\";position: absolute;border-left: 1px solid gray;box-sizing: border-box;top: 0;bottom: 0;left: 50%;z-index: -1;}#sk-container-id-19 div.sk-parallel-item {display: flex;flex-direction: column;z-index: 1;position: relative;background-color: white;}#sk-container-id-19 div.sk-parallel-item:first-child::after {align-self: flex-end;width: 50%;}#sk-container-id-19 div.sk-parallel-item:last-child::after {align-self: flex-start;width: 50%;}#sk-container-id-19 div.sk-parallel-item:only-child::after {width: 0;}#sk-container-id-19 div.sk-dashed-wrapped {border: 1px dashed gray;margin: 0 0.4em 0.5em 0.4em;box-sizing: border-box;padding-bottom: 0.4em;background-color: white;}#sk-container-id-19 div.sk-label label {font-family: monospace;font-weight: bold;display: inline-block;line-height: 1.2em;}#sk-container-id-19 div.sk-label-container {text-align: center;}#sk-container-id-19 div.sk-container {/* jupyter's `normalize.less` sets `[hidden] { display: none; }` but bootstrap.min.css set `[hidden] { display: none !important; }` so we also need the `!important` here to be able to override the default hidden behavior on the sphinx rendered scikit-learn.org. See: https://github.com/scikit-learn/scikit-learn/issues/21755 */display: inline-block !important;position: relative;}#sk-container-id-19 div.sk-text-repr-fallback {display: none;}</style><div id=\"sk-container-id-19\" class=\"sk-top-container\"><div class=\"sk-text-repr-fallback\"><pre>KNeighborsClassifier(n_neighbors=15)</pre><b>In a Jupyter environment, please rerun this cell to show the HTML representation or trust the notebook. <br />On GitHub, the HTML representation is unable to render, please try loading this page with nbviewer.org.</b></div><div class=\"sk-container\" hidden><div class=\"sk-item\"><div class=\"sk-estimator sk-toggleable\"><input class=\"sk-toggleable__control sk-hidden--visually\" id=\"sk-estimator-id-19\" type=\"checkbox\" checked><label for=\"sk-estimator-id-19\" class=\"sk-toggleable__label sk-toggleable__label-arrow\">KNeighborsClassifier</label><div class=\"sk-toggleable__content\"><pre>KNeighborsClassifier(n_neighbors=15)</pre></div></div></div></div></div>"
            ]
          },
          "metadata": {},
          "execution_count": 392
        }
      ]
    },
    {
      "cell_type": "markdown",
      "source": [
        "8. Test the model using the `.predict()`"
      ],
      "metadata": {
        "id": "KLXaUqqto2cu"
      }
    },
    {
      "cell_type": "code",
      "source": [
        "# put your answer here\n",
        "y_pred = knn.predict(X_test)"
      ],
      "metadata": {
        "id": "a5xBSYn4XMPf"
      },
      "execution_count": 393,
      "outputs": []
    },
    {
      "cell_type": "markdown",
      "source": [
        "## Evaluate the model"
      ],
      "metadata": {
        "id": "-ykdOOfoo8Qz"
      }
    },
    {
      "cell_type": "markdown",
      "source": [
        "9. Create a confusion matrix"
      ],
      "metadata": {
        "id": "VL_iWAmLpa3T"
      }
    },
    {
      "cell_type": "code",
      "source": [
        "# put your answer here\n",
        "conf_matrix = confusion_matrix(y_test, y_pred, labels = knn.classes_)\n",
        "disp = ConfusionMatrixDisplay(confusion_matrix = conf_matrix, display_labels = knn.classes_)\n",
        "disp.plot()"
      ],
      "metadata": {
        "id": "w9sRY_71XzR3",
        "outputId": "a4a40877-3305-47b3-f0c1-bffcf67cfb1e",
        "colab": {
          "base_uri": "https://localhost:8080/",
          "height": 472
        }
      },
      "execution_count": 394,
      "outputs": [
        {
          "output_type": "execute_result",
          "data": {
            "text/plain": [
              "<sklearn.metrics._plot.confusion_matrix.ConfusionMatrixDisplay at 0x79e9122619c0>"
            ]
          },
          "metadata": {},
          "execution_count": 394
        },
        {
          "output_type": "display_data",
          "data": {
            "text/plain": [
              "<Figure size 640x480 with 2 Axes>"
            ],
            "image/png": "[encoded data removed]"
          },
          "metadata": {}
        }
      ]
    },
    {
      "cell_type": "markdown",
      "source": [
        "10. Display the accuracy"
      ],
      "metadata": {
        "id": "a869sLN1srbH"
      }
    },
    {
      "cell_type": "code",
      "source": [
        "# put your answer here\n",
        "metrics.accuracy_score(y_test, y_pred)"
      ],
      "metadata": {
        "id": "6KWRq87Qs01v",
        "outputId": "a394c219-4dc0-4456-8533-9f5e03be9734",
        "colab": {
          "base_uri": "https://localhost:8080/"
        }
      },
      "execution_count": 395,
      "outputs": [
        {
          "output_type": "execute_result",
          "data": {
            "text/plain": [
              "1.0"
            ]
          },
          "metadata": {},
          "execution_count": 395
        }
      ]
    },
    {
      "cell_type": "markdown",
      "source": [
        "11. Display the precision"
      ],
      "metadata": {
        "id": "TmJZhC8Jstp-"
      }
    },
    {
      "cell_type": "code",
      "source": [
        "# put your answer here\n",
        "precision = precision_score(y_test, y_pred, average = None)\n",
        "print(\"Precision: \", precision)"
      ],
      "metadata": {
        "id": "C19ePb5Os1N0",
        "outputId": "be66995c-9bdf-48ef-d042-c8cd614e84fc",
        "colab": {
          "base_uri": "https://localhost:8080/"
        }
      },
      "execution_count": 396,
      "outputs": [
        {
          "output_type": "stream",
          "name": "stdout",
          "text": [
            "Precision:  [1. 1.]\n"
          ]
        }
      ]
    },
    {
      "cell_type": "markdown",
      "source": [
        "12. Display the recall"
      ],
      "metadata": {
        "id": "gUy5spuhsvVx"
      }
    },
    {
      "cell_type": "code",
      "source": [
        "# put your answer here\n",
        "recall = recall_score(y_test, y_pred, average = None)\n",
        "print(\"Recall: \", recall)"
      ],
      "metadata": {
        "id": "iqym3xvms139",
        "outputId": "f0bea955-abee-4a6d-bbf3-07dbd858e5f0",
        "colab": {
          "base_uri": "https://localhost:8080/"
        }
      },
      "execution_count": 397,
      "outputs": [
        {
          "output_type": "stream",
          "name": "stdout",
          "text": [
            "Recall:  [1. 1.]\n"
          ]
        }
      ]
    },
    {
      "cell_type": "markdown",
      "source": [
        "13. Display the f1-score"
      ],
      "metadata": {
        "id": "mbQJQG3fsxVJ"
      }
    },
    {
      "cell_type": "code",
      "source": [
        "# put your answer here\n",
        "f1 = f1_score(y_test, y_pred, average = None)\n",
        "print(\"f1-score: \", f1)"
      ],
      "metadata": {
        "id": "YvBGhAzPs2ht",
        "outputId": "09ea87d4-7bf0-41cb-e9f3-f3afebe5d2b8",
        "colab": {
          "base_uri": "https://localhost:8080/"
        }
      },
      "execution_count": 398,
      "outputs": [
        {
          "output_type": "stream",
          "name": "stdout",
          "text": [
            "f1-score:  [1. 1.]\n"
          ]
        }
      ]
    },
    {
      "cell_type": "code",
      "source": [
        "print(metrics.classification_report(y_test, y_pred))"
      ],
      "metadata": {
        "id": "SbGoQ6Mrris1",
        "outputId": "ae811737-b586-4342-c6e4-c816584b177f",
        "colab": {
          "base_uri": "https://localhost:8080/"
        }
      },
      "execution_count": 399,
      "outputs": [
        {
          "output_type": "stream",
          "name": "stdout",
          "text": [
            "              precision    recall  f1-score   support\n",
            "\n",
            "           0       1.00      1.00      1.00         2\n",
            "           1       1.00      1.00      1.00         4\n",
            "\n",
            "    accuracy                           1.00         6\n",
            "   macro avg       1.00      1.00      1.00         6\n",
            "weighted avg       1.00      1.00      1.00         6\n",
            "\n"
          ]
        }
      ]
    },
    {
      "cell_type": "code",
      "source": [
        "knn.predict([[0,1,0,1000]])"
      ],
      "metadata": {
        "id": "eHxIfE1PrkuV",
        "outputId": "73dffc9a-0a00-4028-d29a-7b37f3b0164e",
        "colab": {
          "base_uri": "https://localhost:8080/"
        }
      },
      "execution_count": 400,
      "outputs": [
        {
          "output_type": "execute_result",
          "data": {
            "text/plain": [
              "array([0])"
            ]
          },
          "metadata": {},
          "execution_count": 400
        }
      ]
    },
    {
      "cell_type": "code",
      "source": [],
      "metadata": {
        "id": "m7b75zKvsEIe"
      },
      "execution_count": null,
      "outputs": []
    }
  ]
}